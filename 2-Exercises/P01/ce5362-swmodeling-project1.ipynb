{
 "cells": [
  {
   "cell_type": "markdown",
   "metadata": {},
   "source": [
    "# CE 5362 Project 1"
   ]
  },
  {
   "cell_type": "markdown",
   "metadata": {},
   "source": [
    "Build and document a JupyterLab notebook that implements the St. Venant Equations using explicit finite differences (Lax scheme), and appropriate boundary conditions. Documentation should in the notebook should include sufficient instructions for another person to operate the script, as well as relevant code structure for the algorithms. Incorporate the following case into the report."
   ]
  },
  {
   "cell_type": "markdown",
   "metadata": {},
   "source": [
    "Figure 1 is a backwater curve  for a rectangular channel with discharge over a weir (on the right hand side --- not depicted).  The channel width is 5 meters, bottom slope $0.001$, Manning's $n=0.02$ and discharge $Q=55.4 \\frac{m^3}{sec}$.  \n",
    "\n",
    "![](bw_curve1.jpg)\n",
    "\n",
    "|Figure 1. Example from Page 85. Koutitas, C.G. (1983). Elements of Computational Hydraulics. Pentech Press, London 138p. ISBN 0-7273-0503-4|\n",
    "|:---|\n",
    "\n",
    "## Case 1: Steady Flow\n",
    "\n",
    "Build a steady flow solution using the fixed spatial step approach of Lessons 5 and 6.  \n",
    "\n",
    "## Case 2: Run Transient to Equilibrium\n",
    "\n",
    "Start the flow depth artificially large (deep) and observe if the transient solver will produce an equilibrium solution that is the same as the steady-flow solver.  \n",
    "\n",
    "---\n",
    "\n",
    "## Case 3: Sudden Closure of Downstream Control\n",
    "Analyze the flow in a 1000-m long trapezoidal channel with a bottom width of 20-m, side slope of 2H:1V, longitudinal slope S0=0.0001, and Manning's resistance n=0.013. Initial discharge in the channel is 110 m3/s and initial flow depth is 3.069 m. Simulate the flow and depth at every 100-m station when a downstream gate is closed at t=0. Produce a graph of depth and velocity versus location for t= 0, 60, 360 , 3600, 36,000 sec.\n",
    "\n",
    "## Case 4: Sudden Opening of Downstream Control\n",
    "Repeat the previous problem with the channel at equilibrium (no flow, the gate is closed).  Simulate the flow and depth at every 100-m station when the  downstream gate is opened at t=0.  The boundary condition is a specified velocity -- can assume some function of critical depth when the gate is opened. Produce a graph of depth and velocity versus location for t= 0, 60, 360 , 3600, 36,000 sec. \n",
    "\n",
    "## Case 5: Input Hydrograph (Varying Velocity Upstream BC)\n",
    "The initial depth in a horizontal channel of rectangular cross section is 1 meter. The channel is 29 kilometers long and ends with a non-reflection boundary condition. The initial discharge in the channel is 0 cubic meters per second. The upstream input hydrograph is shown in Figure 2. The manning friction factor is $n=1/40$.\n",
    "\n",
    "![](upstreamHydro.jpg)\n",
    "\n",
    "|Figure 2. Example 4.1, Page 70. Koutitas, C.G. (1983). Elements of Computational Hydraulics. Pentech Press, London 138p. ISBN 0-7273-0503-4|\n",
    "|:---|\n",
    "\n",
    "Simulate the water surface elevation over time in the channel.\n",
    "\n",
    "Save your results -- you will rebuild all these models SWMM to discover the similarity in results and have an understanding of what goes on under the hood in that professional program."
   ]
  },
  {
   "cell_type": "code",
   "execution_count": null,
   "metadata": {},
   "outputs": [],
   "source": []
  }
 ],
 "metadata": {
  "kernelspec": {
   "display_name": "Python 3",
   "language": "python",
   "name": "python3"
  },
  "language_info": {
   "codemirror_mode": {
    "name": "ipython",
    "version": 3
   },
   "file_extension": ".py",
   "mimetype": "text/x-python",
   "name": "python",
   "nbconvert_exporter": "python",
   "pygments_lexer": "ipython3",
   "version": "3.6.9"
  }
 },
 "nbformat": 4,
 "nbformat_minor": 4
}
