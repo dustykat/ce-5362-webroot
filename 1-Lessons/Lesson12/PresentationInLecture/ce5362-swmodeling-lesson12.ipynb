{
 "cells": [
  {
   "cell_type": "markdown",
   "metadata": {},
   "source": [
    "# CE 5362 Lesson 12 Unsteady Open Channel Flow\n",
    "\n",
    "## Branched Systems\n",
    "\n",
    "A branched system can be conceptualized as 1-D spatial cases that have some common junctions. \n",
    "At these junctions the usual approach is to require conservation of stage (water surface cannot have two different elevations at a single point) - which is essentially stating that energy is unique at a section. \n",
    "\n",
    "If the junction has some finite \"size\", we would have to specify energy or momentum conservation (HEC-RAS takes this approach); in my opinion its more sensible to let the junction be infinetsimal and handle the resulting losses in the immediate downstream link.\n",
    "\n",
    "\n",
    "---\n",
    "\n",
    "[future semesters, insert code to illustrate]"
   ]
  },
  {
   "cell_type": "markdown",
   "metadata": {},
   "source": [
    "## Illustrative Example: Transient Flow in a Channel with a Tribuitary\n",
    "\n",
    "Figure 1 is a sketch of a channel and tributary system with a road (bridge) crossing the main\n",
    "channel. \n",
    "\n",
    "![](confluence_wurbs.png)\n",
    "\n",
    "|Figure 1. Plan-View/Schematic for Example|\n",
    "|---|"
   ]
  },
  {
   "cell_type": "markdown",
   "metadata": {},
   "source": [
    "The cross sections are surveyed and the sections are included in Figure 2\n",
    "\n",
    "![](cross-sections.png)\n",
    "\n",
    "|Figure 2. Cross-section geometry and longitudinal (streamline) separation distances|\n",
    "|---|\n"
   ]
  },
  {
   "cell_type": "markdown",
   "metadata": {},
   "source": [
    "Figure 2 is a data table that contains the location of the cross sections relative to the diagram (Section 1 is located at distance 0 from the outlet, Section 10 is located 1760 feet upstream of the outlet, etc.). \n",
    "The numbers to the right of each section title in the table are the distances upstream from section 1. \n",
    "Section 11 connects to the main channel between Section 6 and 7, and that is the meaning of the \"\\*\" symbol in the table. \n",
    "<!--The angle that the tributary forms with the main channel is about 60-degrees.-->\n",
    "X-LB and Z-LB are distance and elevation relative to the left bank of each section.\n",
    "\n",
    "The road is cut into the surrounding grade so that the low chord of the bridge at the main\n",
    "channel is at elevation 290, and the roadway surface is at elevation 295 feet."
   ]
  },
  {
   "cell_type": "markdown",
   "metadata": {},
   "source": [
    "Figure 3 is a table of steady flow conditions to consider.\n",
    "\n",
    "![](steady-wurbs.png)\n",
    "\n",
    "|Figure 3. Steady flow conditions to examine|\n",
    "|---|"
   ]
  },
  {
   "cell_type": "markdown",
   "metadata": {},
   "source": [
    "Determine if the current bridge low chord can accommodate the steady design flows. \n",
    "If flow cannot clear the low chord, treat the bridge as a large culvert and determine if the roadway\n",
    "surface is still passable (not flooded)."
   ]
  },
  {
   "cell_type": "markdown",
   "metadata": {},
   "source": [
    "Now suppose we are informed of possible unsteady flows that are likely to occur in system, how will our analysis change (beyond the obvious transition from steady to unsteady)?"
   ]
  },
  {
   "cell_type": "markdown",
   "metadata": {},
   "source": [
    "Figure 4 is a table of unsteady flow conditions to consider.\n",
    "\n",
    "![](hydrographs-wurbs.png)\n",
    "\n",
    "|Figure 4. Unsteady flow conditions to examine|\n",
    "|---|"
   ]
  },
  {
   "cell_type": "markdown",
   "metadata": {},
   "source": [
    "Repeat the analysis assuming the bridge abutments extend 100 feet into the left and right over-bank."
   ]
  },
  {
   "cell_type": "markdown",
   "metadata": {},
   "source": [
    "# SWMM Model set-up\n",
    "\n",
    "Go thru a set-up \n",
    "\n",
    "Then examine model keeping in mind:\n",
    "\n",
    "1. How to analyze the hydraulics (i.e. tool choices, assumptions, boundary conditions, etc.) \n",
    "2. Data preparation (i.e. how the geometry is entered)\n",
    "3. Results of the three steady flow cases.\n",
    "   1. How to make inputs for a parametric study\n",
    "4. Results of the transient (dynamic) flow case.\n",
    "   1. How to make inputs for a parametric study\n",
    "5. Serviceability of the bridge with and without abutments.\n",
    "6. Speculation on the effect of the bridge on the channel system with and without abutments."
   ]
  },
  {
   "cell_type": "code",
   "execution_count": null,
   "metadata": {},
   "outputs": [],
   "source": []
  }
 ],
 "metadata": {
  "kernelspec": {
   "display_name": "Python 38",
   "language": "python",
   "name": "python38"
  },
  "language_info": {
   "codemirror_mode": {
    "name": "ipython",
    "version": 3
   },
   "file_extension": ".py",
   "mimetype": "text/x-python",
   "name": "python",
   "nbconvert_exporter": "python",
   "pygments_lexer": "ipython3",
   "version": "3.8.3"
  }
 },
 "nbformat": 4,
 "nbformat_minor": 4
}
