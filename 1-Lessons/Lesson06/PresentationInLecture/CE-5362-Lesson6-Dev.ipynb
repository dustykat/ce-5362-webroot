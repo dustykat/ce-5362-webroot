{
 "cells": [
  {
   "cell_type": "markdown",
   "metadata": {},
   "source": [
    "# CE 5362 Lesson 6 Computational Workshop\n",
    "\n",
    "This computational workshop is to examine computation related to:\n",
    "\n",
    "1. Uniform flow; algebraic equation.\n",
    "$$ S_f = S_0 $$\n",
    "\n",
    "2. Gradually varied; ordinary differential equation.\n",
    "$$ S_f = S_0 - \\frac{\\partial z}{\\partial x} - \\frac{V}{g}\\frac{\\partial V}{\\partial x} $$\n",
    "\n",
    "3. Dynamic flow (shallow wave) conditions; partial differential equation.\n",
    "\n",
    "$$ S_f = S_0 - \\frac{1}{g} \\frac{\\partial V}{\\partial t} - \\frac{\\partial z}{\\partial x} - \\frac{V}{g}\\frac{\\partial V}{\\partial x} $$\n",
    "\n",
    "The objectives are to explore the JupyterLab environment to make relevant computations, then compare results to the professional tools (SWMM)\n",
    "\n",
    "\n"
   ]
  },
  {
   "cell_type": "markdown",
   "metadata": {},
   "source": [
    "## Gradually Varied Steady Flow"
   ]
  },
  {
   "cell_type": "markdown",
   "metadata": {},
   "source": [
    "### Fixed Depth Change, Variable Spatial Step\n",
    "The fixed-step refers to specified changes in depth for which we solve to find the variable spatial steps. The method is a very simple method for computing water surface profiles in prismatic channels. A prismatic channel is a channel of uniform cross sectional geometry with constant bed (topographic) slope.\n",
    "\n",
    "In such channels with smooth (non-jump) steady flow the continunity and momentum equations are: \n",
    "\n",
    "$$Q = AV $$\n",
    "\n",
    "where where $Q$ is volumetric discharge, $A$ is cross sectional flow area, and $V$ is the mean section velocity; and: \n",
    "\n",
    "$$\\frac{V}{g} \\frac{dV}{dx}+\\frac{dh}{dx} = S_o - S_f$$ \n",
    "\n",
    "where $h$ is the flow depth (above the bottom), and $x$ is horizontal the distance along the channel.\n",
    "\n",
    "For the variable step method, the momentum equation is rewritten as a difference equation (after application of calculus to gather terms) then rearranged to solve for the spatial step dimension .\n",
    "\n",
    "$$ \\frac{\\frac{V^2_{i+1}}{2g}-\\frac{V^2_{i}}{2g}}{\\Delta x} + \\frac{h_{i+1}-h_{i}}{\\Delta x} = S_o - \\bar{S_f} $$\n",
    "\n",
    "where $S_f$ is the average slope of the energy grade line between two sections (along a\n",
    "reach of length $\\Delta x$, the unknown value). Rearrangement to isolate $\\Delta x$ produces an explicit update equation that can be evaluated to find the different values of $\\Delta x$ associated with different flow depths. The\n",
    "plot of the accumulated spatial changes versus the sum of the flow depth and bottom elevation is the water surface profile.\n",
    "\n",
    "$$\\frac{(h_{i+1} + \\frac{V^2_{i+1}}{2g})  -  (h_{i} +\\frac{V^2_{i}}{2g}) }{S_o - \\bar{S_f} } = \\Delta x $$\n",
    "\n",
    "The distance between two sections with known discharges is computed using the\n",
    "equation, all the terms on the left hand side are known values. The mean energy\n",
    "gradient ($\\bar{S_f}$ ) is computed from the mean of the velocity, depth, area, and hydraulic\n",
    "radius for the two sections.\n",
    "\n",
    "The friction slope can be computed using Manning's, Chezy, or the Darcy-Weisbach friction equations adapted for non-circular, free-surface conduits.\n",
    "\n",
    "The equation here is written moving upstream, direction matters for indexing. Thus position $i+1$\n",
    "is assumed upstream of position $i$ in this notebook. Such directional convention is unusual in\n",
    "numerical methods and analysts need to use care when developing their own tools or using other\n",
    "tools. A clever analyst need not rewrite code, but simple interchange of upstream and downstream\n",
    "depths can handle both backwater and front-water curves."
   ]
  },
  {
   "cell_type": "markdown",
   "metadata": {},
   "source": [
    "## Scripting an Algorithm\n",
    "\n",
    "Here the method is illustrated in  to illustrate the tool as a programming environment.\n",
    "First we build a set of utility functions, these will be used later in the `backwater`\n",
    "function\n",
    "\n",
    "The listings below are utility functions for rectangular channels for flow area given channel\n",
    "depth and width and wetted perimeter given depth and width. Different geometries will need different functions (probably by numerical methods rather than actual functional relationships).\n",
    "\n",
    "\n",
    "The first listing is a depth-area function for rectangular geometry."
   ]
  },
  {
   "cell_type": "code",
   "execution_count": 43,
   "metadata": {},
   "outputs": [],
   "source": [
    "# Depth-Area function for rectangular channel\n",
    "def area(depth,width):\n",
    "    area=depth*width;\n",
    "    return(area)"
   ]
  },
  {
   "cell_type": "markdown",
   "metadata": {},
   "source": [
    "The next listing is a depth wetted-perimeter function for a rectangular geometry."
   ]
  },
  {
   "cell_type": "code",
   "execution_count": 44,
   "metadata": {},
   "outputs": [],
   "source": [
    "# Depth-Wetted perimeter function for rectangular channel\n",
    "def perimeter(depth,width):\n",
    "    perimeter=2*depth+width;\n",
    "    return(perimeter)"
   ]
  },
  {
   "cell_type": "markdown",
   "metadata": {},
   "source": [
    "Listing below is a listing of the code for the hydraulic radius (ratio of the above results),\n",
    "this is a generic function, it does not need to know the flow geometry"
   ]
  },
  {
   "cell_type": "code",
   "execution_count": 45,
   "metadata": {},
   "outputs": [],
   "source": [
    "# Hydraulic radius function\n",
    "def radius(area,perimeter):\n",
    "    radius=area/perimeter;\n",
    "    return(radius)"
   ]
  },
  {
   "cell_type": "markdown",
   "metadata": {},
   "source": [
    "The next section is a listing of code for the friction slope given Manning's n, discharge,\n",
    "hydraulic radius, and flow area. This function implicitly assumes SI units\n",
    "(the 1.49 constant in U.S. Customary units is not present). For U.S. Customary units\n",
    "either add the constant or convert the US units into equivalent SI units."
   ]
  },
  {
   "cell_type": "code",
   "execution_count": 46,
   "metadata": {},
   "outputs": [],
   "source": [
    "# Friction slope function\n",
    "def slope_f(discharge,mannings_n,area,radius):\n",
    "    slope_f=(discharge**2)*(mannings_n**2)/( (radius**(4./3))*(area**2) ); #compute friction slope\n",
    "    return(slope_f)"
   ]
  },
  {
   "cell_type": "code",
   "execution_count": 47,
   "metadata": {},
   "outputs": [],
   "source": [
    "# 2-point average\n",
    "def avg2point(x1,x2):\n",
    "    avg2point=0.5*(x1+x2);\n",
    "    return(avg2point)"
   ]
  },
  {
   "cell_type": "markdown",
   "metadata": {},
   "source": [
    "The semi-colons in the functions are probably unnecessary, but have value because it\n",
    "forces the expression to its left to be evaluated and helps prevent ambiguous code.\n",
    "Also notice the use of indention as a scope delimiter, the delimiter is required. "
   ]
  },
  {
   "cell_type": "markdown",
   "metadata": {},
   "source": [
    "## Describe the actual BW computes\n",
    "\n",
    "At this point, we have 5 useful, testable functions (and we should test before\n",
    "the next step.\n",
    "\n",
    "The next listing is the step-backwater method implemented as a function. This function\n",
    "computes the space steps, changes in depth, etc. as per the algorithm. The function is a **FORTRAN** port, so it is not a terribly efficient use of **JupyterLab/iPython**, but it illustrates count controlled repetition (for loops), array indexing, and use of the utility functions to make the code readable as well as ensure that the parts work before the whole program is assembled. This concept is really crucial, if you can build a tool of parts that are known to work, it helps keep logic errors contained to known locations."
   ]
  },
  {
   "cell_type": "code",
   "execution_count": 48,
   "metadata": {},
   "outputs": [],
   "source": [
    "# Backwater curve function\n",
    "def backwater(begin_depth,end_depth,how_many,discharge,width,mannings_n,slope):\n",
    "#\n",
    "## Example function call\n",
    "##  zz = backwater(begin_depth=8,end_depth=5,how_many=30,discharge=55.4,width=5,mannings_n=0.02,slope=0.001)\n",
    "## Numerical values are values used in essay, they correspond to a particuar example from Koutitas 1983\n",
    "#\n",
    "# Other functions must exist otherwise will spawn errors\n",
    "#\n",
    "# Prepare space for vectors\n",
    "    twog=2.0*9.8\n",
    "    depth=[]  # numeric vector for depths\n",
    "    velocity=[]  # numeric vector for velocities\n",
    "    deltax=[] # numeric vector for spatial steps\n",
    "    distance=[] # space for computing cumulative distances\n",
    "    bse=[] # numeric vector for bottom elevations\n",
    "    wse=[] # numeric vector for water surface elevations\n",
    "    delta_depth=(begin_depth-end_depth)/(how_many)  # change in depth for finding spatial steps\n",
    "    #print(delta_depth)\n",
    "    depth.append(begin_depth) # assign downstream value\n",
    "    for i in range(1,how_many):\n",
    "        depth.append(depth[0] - (i+1)*delta_depth) # uniform depths\n",
    "    for i in range(0,how_many):\n",
    "        velocity.append(discharge/area(depth[i],width))\n",
    "    for i in range(0,how_many-1):\n",
    "        depth_bar=avg2point(depth[i+1],depth[i]); #compute average depth in reach\n",
    "        area_bar=area(depth_bar,width); #compute average area in reach\n",
    "        perimeter_bar=perimeter(depth_bar,width); #compute average wetted perimeter\n",
    "        radius_bar=radius(area_bar,perimeter_bar); #compute average hydraulic radius\n",
    "        friction=slope_f(discharge,mannings_n,area_bar,radius_bar) #compute friction slope\n",
    "        snrgup =(depth[i+1]+((velocity[i+1]**2)/twog))\n",
    "        snrgdn =(depth[i] + ((velocity[i]**2)/twog))\n",
    "        step =(snrgup - snrgdn)/(slope-friction) # compute change in distance for each change in depth\n",
    "        deltax.append(step)\n",
    "    distance.append(0.0)\n",
    "    bse.append(0.0)\n",
    "    for i in range(1,how_many):\n",
    "        distance.append(distance[i-1]+deltax[i-1]); # spatial distances\n",
    "        bse.append(bse[i-1]-deltax[i-1]*slope); # bottom elevations\n",
    "    for i in range(0,how_many):\n",
    "        wse.append(bse[i]+depth[i]) # water surface elevations\n",
    "    return(distance,wse,bse,depth,deltax,velocity)"
   ]
  },
  {
   "cell_type": "markdown",
   "metadata": {},
   "source": [
    "### Example Backwater curve\n",
    "Figure 1 is a backwater curve for a rectangular channelwith discharge over a weir (on\n",
    "the right hand side — not depicted). The channel width is 5 meters, bottom slope\n",
    "0.001, Manning’s n = 0.02 and discharge $Q = 55.4m^3/sec$\n",
    "Using the backwater function and some plot calls in **JupyterLab/iPython** we can duplicate the figure (assuming the figure is essentially correct).\n",
    "\n",
    "![](bw_curve1.jpg)\n",
    "\n",
    "|Figure XX. Prismatic Rectangular Channel|\n",
    "|---|\n",
    "\n",
    "    This example is adapted from: Page 85. Koutitas, C.G. (1983). Elements of Computational Hydraulics. Pentech Press, London 138p. ISBN 0-7273-0503-4"
   ]
  },
  {
   "cell_type": "markdown",
   "metadata": {},
   "source": [
    "### Function call with plotting"
   ]
  },
  {
   "cell_type": "code",
   "execution_count": 49,
   "metadata": {},
   "outputs": [],
   "source": [
    "# call the function - output is a tuple, use this fact in the plotting build\n",
    "output = backwater(begin_depth=8.0,end_depth=5.0,how_many=31,discharge=55.4,width=5.0,mannings_n=0.02,slope=0.001)\n",
    "# Now plot the water surface profile"
   ]
  },
  {
   "cell_type": "code",
   "execution_count": 50,
   "metadata": {},
   "outputs": [
    {
     "data": {
      "text/plain": [
       "([0.0,\n",
       "  -283.35036151530664,\n",
       "  -428.01121940864573,\n",
       "  -574.8515686316364,\n",
       "  -724.0432559775297,\n",
       "  -875.7784626846135,\n",
       "  -1030.2730147587363,\n",
       "  -1187.770394158555,\n",
       "  -1348.5466367108593,\n",
       "  -1512.9163627853982,\n",
       "  -1681.2402702549975,\n",
       "  -1853.9345367975611,\n",
       "  -2031.4827466068946,\n",
       "  -2214.451200843967,\n",
       "  -2403.508832956717,\n",
       "  -2599.4534970171985,\n",
       "  -2803.247243443978,\n",
       "  -3016.0645395117012,\n",
       "  -3239.3595860271253,\n",
       "  -3474.962585192671,\n",
       "  -3725.221306601451,\n",
       "  -3993.2161853820994,\n",
       "  -4283.100097607726,\n",
       "  -4600.660902930245,\n",
       "  -4954.3084661830835,\n",
       "  -5356.938830438938,\n",
       "  -5829.813146361424,\n",
       "  -6411.7849250248955,\n",
       "  -7186.094269450929,\n",
       "  -8389.539642756294,\n",
       "  -11393.20102883886],\n",
       " [8.0,\n",
       "  8.089801974418533,\n",
       "  8.137688638763485,\n",
       "  8.187754794438089,\n",
       "  8.240172288235593,\n",
       "  8.29513330139429,\n",
       "  8.352853659920026,\n",
       "  8.413576845771459,\n",
       "  8.477578894775375,\n",
       "  8.545174427301527,\n",
       "  8.61672414122274,\n",
       "  8.692644214216916,\n",
       "  8.773418230477862,\n",
       "  8.859612491166548,\n",
       "  8.95189592973091,\n",
       "  9.051066400243004,\n",
       "  9.158085953121397,\n",
       "  9.274129055640733,\n",
       "  9.40064990860777,\n",
       "  9.539478714224929,\n",
       "  9.692963242085321,\n",
       "  9.864183927317583,\n",
       "  10.057293645994822,\n",
       "  10.278080257768956,\n",
       "  10.534953627473406,\n",
       "  10.840809798180874,\n",
       "  11.216909920554972,\n",
       "  11.702107505670057,\n",
       "  12.379642656547702,\n",
       "  13.486313836304682,\n",
       "  16.39320102883886],\n",
       " [0.0,\n",
       "  0.2833503615153066,\n",
       "  0.4280112194086457,\n",
       "  0.5748515686316364,\n",
       "  0.7240432559775297,\n",
       "  0.8757784626846135,\n",
       "  1.0302730147587362,\n",
       "  1.1877703941585551,\n",
       "  1.3485466367108594,\n",
       "  1.5129163627853983,\n",
       "  1.6812402702549976,\n",
       "  1.8539345367975613,\n",
       "  2.0314827466068945,\n",
       "  2.2144512008439667,\n",
       "  2.4035088329567165,\n",
       "  2.599453497017198,\n",
       "  2.8032472434439772,\n",
       "  3.0160645395117007,\n",
       "  3.2393595860271245,\n",
       "  3.474962585192671,\n",
       "  3.7252213066014503,\n",
       "  3.993216185382099,\n",
       "  4.283100097607726,\n",
       "  4.600660902930246,\n",
       "  4.954308466183084,\n",
       "  5.3569388304389385,\n",
       "  5.829813146361424,\n",
       "  6.411784925024896,\n",
       "  7.186094269450929,\n",
       "  8.389539642756294,\n",
       "  11.39320102883886],\n",
       " [8.0,\n",
       "  7.806451612903226,\n",
       "  7.709677419354839,\n",
       "  7.612903225806452,\n",
       "  7.516129032258064,\n",
       "  7.419354838709678,\n",
       "  7.32258064516129,\n",
       "  7.225806451612903,\n",
       "  7.129032258064516,\n",
       "  7.032258064516129,\n",
       "  6.935483870967742,\n",
       "  6.838709677419355,\n",
       "  6.741935483870968,\n",
       "  6.645161290322581,\n",
       "  6.548387096774194,\n",
       "  6.451612903225806,\n",
       "  6.35483870967742,\n",
       "  6.258064516129032,\n",
       "  6.161290322580645,\n",
       "  6.064516129032258,\n",
       "  5.967741935483871,\n",
       "  5.870967741935484,\n",
       "  5.774193548387097,\n",
       "  5.67741935483871,\n",
       "  5.580645161290322,\n",
       "  5.483870967741936,\n",
       "  5.387096774193548,\n",
       "  5.290322580645162,\n",
       "  5.193548387096774,\n",
       "  5.096774193548387,\n",
       "  5.0],\n",
       " [-283.35036151530664,\n",
       "  -144.66085789333908,\n",
       "  -146.84034922299065,\n",
       "  -149.1916873458933,\n",
       "  -151.7352067070838,\n",
       "  -154.49455207412277,\n",
       "  -157.49737939981884,\n",
       "  -160.77624255230432,\n",
       "  -164.36972607453902,\n",
       "  -168.32390746959925,\n",
       "  -172.6942665425636,\n",
       "  -177.54820980933334,\n",
       "  -182.96845423707217,\n",
       "  -189.05763211274993,\n",
       "  -195.9446640604816,\n",
       "  -203.79374642677917,\n",
       "  -212.81729606772353,\n",
       "  -223.29504651542393,\n",
       "  -235.60299916554615,\n",
       "  -250.25872140877965,\n",
       "  -267.99487878064855,\n",
       "  -289.8839122256267,\n",
       "  -317.5608053225197,\n",
       "  -353.6475632528385,\n",
       "  -402.63036425585443,\n",
       "  -472.8743159224856,\n",
       "  -581.971778663472,\n",
       "  -774.3093444260335,\n",
       "  -1203.4453733053651,\n",
       "  -3003.661386082566],\n",
       " [1.385,\n",
       "  1.4193388429752065,\n",
       "  1.437154811715481,\n",
       "  1.4554237288135594,\n",
       "  1.4741630901287555,\n",
       "  1.493391304347826,\n",
       "  1.5131277533039649,\n",
       "  1.5333928571428572,\n",
       "  1.5542081447963803,\n",
       "  1.5755963302752292,\n",
       "  1.5975813953488371,\n",
       "  1.6201886792452829,\n",
       "  1.6434449760765548,\n",
       "  1.667378640776699,\n",
       "  1.6920197044334975,\n",
       "  1.7174,\n",
       "  1.7435532994923857,\n",
       "  1.7705154639175258,\n",
       "  1.798324607329843,\n",
       "  1.8270212765957448,\n",
       "  1.8566486486486486,\n",
       "  1.8872527472527472,\n",
       "  1.9188826815642457,\n",
       "  1.9515909090909087,\n",
       "  1.985433526011561,\n",
       "  2.020470588235294,\n",
       "  2.0567664670658683,\n",
       "  2.094390243902439,\n",
       "  2.133416149068323,\n",
       "  2.173924050632911,\n",
       "  2.2159999999999997])"
      ]
     },
     "execution_count": 50,
     "metadata": {},
     "output_type": "execute_result"
    }
   ],
   "source": [
    "output"
   ]
  },
  {
   "cell_type": "code",
   "execution_count": 51,
   "metadata": {},
   "outputs": [
    {
     "data": {
      "image/png": "[encoded data removed]",
      "text/plain": [
       "<Figure size 1152x576 with 1 Axes>"
      ]
     },
     "metadata": {
      "needs_background": "light"
     },
     "output_type": "display_data"
    }
   ],
   "source": [
    "import matplotlib.pyplot\n",
    "myfigure = matplotlib.pyplot.figure(figsize = (16,8)) # generate a object from the figure class, set aspect ratio\n",
    "# Built the plot\n",
    "matplotlib.pyplot.plot(output[0], output[2],  color ='brown', linewidth=3)\n",
    "matplotlib.pyplot.plot(output[0], output[1],  color ='blue', linewidth=5)\n",
    "matplotlib.pyplot.ylabel(\"Elevation (meters)\")\n",
    "matplotlib.pyplot.xlabel(\"Distance (meters)\")\n",
    "mytitle = \"Water Surface Profile - Variable Spatial Step Method\"\n",
    "matplotlib.pyplot.title(mytitle)\n",
    "matplotlib.pyplot.show()"
   ]
  },
  {
   "cell_type": "markdown",
   "metadata": {},
   "source": [
    "---\n",
    "\n",
    "### Fixed Spatial Step, Variable Depth\n",
    "\n",
    "The fixed-depth change, variable-space result is a useful tool, but not terribly practical because we mostly perform engineering hydraulics calculations to estimate values (depth, pressure, force) at prescribed locations in space, so we need another approach to the problem where we can prescribe the spatial locations, and solve for the depths.\n",
    "\n",
    "First the gradually varied flow equation is rearranged for relating the change in specific energy between two section to the spatial difference and the slope differences as\n",
    "\n",
    "\\begin{equation}\n",
    "\\Delta h_s = \\Delta (h + \\frac{V^2}{2g}) = \\Delta x (S_o - S_f)\n",
    "\\label{eqn:gvf-energy-bal}\n",
    "\\end{equation}\n",
    "\n",
    "The computation of $h_{i+1},V_{i+1}$ from $h_i,V_i$ is performed by iteration.\n",
    "An initial value for $h_{i+1}$ that is known to be too large is used in the above Equation  along with the known value of $h_i$ to compute a trial value $h_{s(i+1)}$.\n",
    "\n",
    "Then the trial value is used in the right hand side of the Equation \n",
    "\n",
    "\\begin{equation}\n",
    "h_s = (h + \\frac{V^2}{2g})\n",
    "\\label{eqn:gvf-energy-newl}\n",
    "\\end{equation}\n",
    "\n",
    "The two trial values are compared and the next value of $h_{i+1}$ is computed by sucessively decreasing until the two values computed by the difference equation and the definition of specific energy coincide.  The example below uses a method from Hamming to make the comparisons and adjust the guesses until they are sufficiently close enough."
   ]
  },
  {
   "cell_type": "markdown",
   "metadata": {},
   "source": [
    "### Example (Non-Prismatic Channel), Fixed Spatial Steps)\n",
    "A plan view of a rectangular channel of variable width as shown in Figure XX\n",
    "\n",
    "![](NonPrismaticExample.jpg)\n",
    "\n",
    "|Figure XX. Non-Prismatic Rectangular Channel|\n",
    "|---|\n",
    "\n",
    "The channel conveys $Q=100~m^3/sec$, with a bottom slope of $0.001$ and average Manning's $n$ value of $0.033$.  \n",
    "A backwater curve is caused by a weir at the downstream end (to the right in the figure) by a 7 meter tall weir.\n",
    "Flow depth over the weir is at critical depth $h_c = 2.17$ meters.  Normal flow in the upstream portion for 10-meter channel width is $h_n = 5.6$ meters.  Using the fixed space step method determine and plot a profile view of the water surface and channel bottom."
   ]
  },
  {
   "cell_type": "markdown",
   "metadata": {},
   "source": [
    "The method employed is attributed to Hamming (cite and link to readings) that implements a Newton's-like method to match the left and right side of the difference equation.  \n",
    "\n",
    "Here is our algorithm, first we set up some problem constants:"
   ]
  },
  {
   "cell_type": "code",
   "execution_count": 60,
   "metadata": {},
   "outputs": [],
   "source": [
    "# Hamming's Method for Backwater Curve\n",
    "imax = 31             #number of computational stations\n",
    "dx = -1000.0            #spacing between stations\n",
    "manningsN = 0.033     #mannings n value\n",
    "slopeChan = 0.001     #channel slope\n",
    "normalD  = 5.6       #upstream station normal depth\n",
    "controlD = 9.17       #downstream station control depth\n",
    "discharge = 100.0       #steady discharge"
   ]
  },
  {
   "cell_type": "markdown",
   "metadata": {},
   "source": [
    "Next we define the plan view geometry, in this example we explicitly enter the values, but we could just as well read the geometry from a file to generalize the script."
   ]
  },
  {
   "cell_type": "code",
   "execution_count": 62,
   "metadata": {},
   "outputs": [],
   "source": [
    "topwidth = [10,10,10,11,12,13,14,13,12,11,10,9,8,7,8,9,10,10,10,10,10,10,10,10,10,10,10,10,10,10,10]\n",
    "topwidth = [float(i) for i in topwidth] # use of range() to set indices"
   ]
  },
  {
   "cell_type": "markdown",
   "metadata": {},
   "source": [
    "With topwidth defined, we can compute values of velocity at the control section (downstream pool in the example). The conrtol section has position 0 in the various lists within our script. Observe the two ways we can populate the vectors with constants, use whichever you fancy!"
   ]
  },
  {
   "cell_type": "code",
   "execution_count": 63,
   "metadata": {},
   "outputs": [],
   "source": [
    "velo = [0] * imax # allocate a velocity vector, put zeroes everywhere\n",
    "velo[0] = discharge/topwidth[0]/controlD #set velocity at control section\n",
    "depth = [normalD for i in range(0,imax)] # allocate a depth vector, put zeroes everywhere\n",
    "spDepth = [0 for i in range(0,imax)] # allocate a sp. depth vector, put zeroes everywhere\n",
    "spDepthT = [0 for i in range(0,imax)] # allocate a sp. depth vector, put zeroes everywhere"
   ]
  },
  {
   "cell_type": "markdown",
   "metadata": {},
   "source": [
    "Now set control section depth, and specific energy"
   ]
  },
  {
   "cell_type": "code",
   "execution_count": 64,
   "metadata": {},
   "outputs": [],
   "source": [
    "depth[0] = controlD # set control section depth\n",
    "spDepth[0] = ((velo[0]**2)/(2.0*9.81)) + depth[0]"
   ]
  },
  {
   "cell_type": "markdown",
   "metadata": {},
   "source": [
    "Now we implement the algorithm, starting from section 1 (just upstream of the control section) we use the difference equation and Hamming's method to find a value of depth that satisfies the difference equation.  Here are three loops, an outer one that processes each section and two inner loops that perform the balancing act - notice how the script breaks from a loop, when the conditions are satisfied."
   ]
  },
  {
   "cell_type": "code",
   "execution_count": 65,
   "metadata": {},
   "outputs": [],
   "source": [
    "## begin for loop\n",
    "for i in range(1,imax):\n",
    "    depth[i] = 10\n",
    "    difn = 1.0\n",
    "    dh = 1.0\n",
    "### begin do while loop 1\n",
    "    while (dh > 0.0001):\n",
    "        dif = difn\n",
    "        ntest = 0\n",
    "        depth[i] = depth[i]-dh\n",
    "#### begin do while loop 2\n",
    "        while (dh > 0):\n",
    "            velo[i] =discharge/topwidth[i]/depth[i]\n",
    "            avgDepth = 0.5*(depth[i-1]+depth[i])\n",
    "            avgTopW = 0.5*(topwidth[i-1]+topwidth[i])\n",
    "            avgV = discharge/avgTopW/avgDepth\n",
    "            hydR = avgDepth*avgTopW/(avgTopW+2.0*avgDepth)\n",
    "            sFric = (avgV**2)*(manningsN**2)/(hydR**(1.33))\n",
    "            spDepth[i] = spDepth[i-1]+(slopeChan-sFric)*dx\n",
    "            spDepthT[i] = depth[i]+(velo[i]**2/(2.0*9.81))\n",
    "            difn = spDepthT[i]-spDepth[i]\n",
    " #     print(difn)\n",
    "#      print(cbind(i,depth[i],spDepth[i],spDepthT[i],dh))\n",
    "            if(ntest > 0):\n",
    "                dh = dh/10.0\n",
    "                break #break from do while loop 2\n",
    "            if(dif*difn > 0):\n",
    "                break #break from do while loop 2\n",
    "            depth[i] = depth[i] + dh\n",
    "            ntest = 1\n",
    "#### end do while loop 2\n",
    "### end do while loop 1\n",
    "## end for loop"
   ]
  },
  {
   "cell_type": "markdown",
   "metadata": {},
   "source": [
    "Now we prepare the output for plotting"
   ]
  },
  {
   "cell_type": "code",
   "execution_count": 66,
   "metadata": {},
   "outputs": [],
   "source": [
    "distance = [0]*imax\n",
    "bottom = [0]*imax\n",
    "watersurface = [0]*imax\n",
    "for i in range(1,imax):\n",
    "    distance[i] = distance[i-1]+dx \n",
    "    bottom[i] = -distance[i]*slopeChan\n",
    "    watersurface[i] = depth[i]+bottom[i]\n",
    "watersurface[0] = depth[0]+bottom[0] # don't forget the control section!"
   ]
  },
  {
   "cell_type": "markdown",
   "metadata": {},
   "source": [
    "Here we just reuse the plotting methods from prior lessons, but substitute in the correct vector names"
   ]
  },
  {
   "cell_type": "code",
   "execution_count": 67,
   "metadata": {},
   "outputs": [
    {
     "data": {
      "image/png": "[encoded data removed]",
      "text/plain": [
       "<Figure size 1152x576 with 1 Axes>"
      ]
     },
     "metadata": {
      "needs_background": "light"
     },
     "output_type": "display_data"
    }
   ],
   "source": [
    "# Now plot the water surface profile\n",
    "import matplotlib.pyplot\n",
    "myfigure = matplotlib.pyplot.figure(figsize = (16,8)) # generate a object from the figure class, set aspect ratio\n",
    "# Built the plot\n",
    "matplotlib.pyplot.plot(distance, bottom,  color ='brown', linewidth=3)\n",
    "matplotlib.pyplot.plot(distance, watersurface,  color ='blue', linewidth=5)\n",
    "matplotlib.pyplot.ylabel(\"Elevation (meters)\")\n",
    "matplotlib.pyplot.xlabel(\"Distance (meters)\")\n",
    "mytitle = \"Water Surface Profile - Fixed Spatial Step Method\"\n",
    "matplotlib.pyplot.title(mytitle)\n",
    "matplotlib.pyplot.show()"
   ]
  },
  {
   "cell_type": "code",
   "execution_count": 68,
   "metadata": {},
   "outputs": [
    {
     "data": {
      "text/plain": [
       "[9.17,\n",
       " 8.459000000000003,\n",
       " 7.813,\n",
       " 7.206000000000003,\n",
       " 6.584,\n",
       " 5.969,\n",
       " 5.379000000000002,\n",
       " 4.889,\n",
       " 4.665,\n",
       " 4.701,\n",
       " 4.931999999999999,\n",
       " 5.306000000000003,\n",
       " 5.810000000000002,\n",
       " 6.467000000000001,\n",
       " 6.9,\n",
       " 6.819000000000002,\n",
       " 6.532,\n",
       " 6.202000000000002,\n",
       " 5.960000000000001,\n",
       " 5.791999999999998,\n",
       " 5.681999999999999,\n",
       " 5.612,\n",
       " 5.568000000000001,\n",
       " 5.5409999999999995,\n",
       " 5.525000000000001,\n",
       " 5.5150000000000015,\n",
       " 5.509000000000003,\n",
       " 5.506000000000002,\n",
       " 5.504000000000001,\n",
       " 5.502000000000001,\n",
       " 5.502000000000001]"
      ]
     },
     "execution_count": 68,
     "metadata": {},
     "output_type": "execute_result"
    }
   ],
   "source": [
    "depth"
   ]
  },
  {
   "cell_type": "markdown",
   "metadata": {},
   "source": [
    "## References\n",
    "Koutitas, C. G. 1983. Elements of Computational Hydraulics. ISBN 0-412-00361-9. Pentech Press Ltd. London. (Chapter 4) [http://54.243.252.9/ce-5362-psuedo-course/3-Readings/PracticalComputationalHydraulics-Kousitas/ElementsOfComputationalHydraulics.pdf](http://54.243.252.9/ce-5362-psuedo-course/3-Readings/PracticalComputationalHydraulics-Kousitas/ElementsOfComputationalHydraulics.pdf)\n",
    "\n",
    "Roberson, J. A., Cassidy, J.J., and Chaudry, M. H., (1988) Hydraulic Engineering, Houghton Mifflin Co (Chapter 10) [http://54.243.252.9/ce-5362-psuedo-course/3-Readings/HydraulicEngineering/](http://54.243.252.9/ce-5362-psuedo-course/3-Readings/HydraulicEngineering/)\n",
    "\n",
    "Sturm T.W (2001) Open Channel Hydraulics, 1ed., McGraw-Hill, New York. Note: This PDF is from an international edition published in Singapore. [http://54.243.252.9/ce-5362-psuedo-course/3-Readings/OpenChannelHYdraulics/](http://54.243.252.9/ce-5362-psuedo-course/3-Readings/OpenChannelHYdraulics/)\n",
    "\n",
    "Cunge, J.A., Holly, F.M., Verwey, A. (1980). Practical Aspects of Computational\n",
    "River Hydraulics. Pittman Publishing Inc. , Boston, MA. pp. 7-50"
   ]
  },
  {
   "cell_type": "code",
   "execution_count": null,
   "metadata": {},
   "outputs": [],
   "source": []
  }
 ],
 "metadata": {
  "kernelspec": {
   "display_name": "Python 38",
   "language": "python",
   "name": "python38"
  },
  "language_info": {
   "codemirror_mode": {
    "name": "ipython",
    "version": 3
   },
   "file_extension": ".py",
   "mimetype": "text/x-python",
   "name": "python",
   "nbconvert_exporter": "python",
   "pygments_lexer": "ipython3",
   "version": "3.8.3"
  }
 },
 "nbformat": 4,
 "nbformat_minor": 4
}
